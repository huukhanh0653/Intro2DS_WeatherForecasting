{
 "cells": [
  {
   "cell_type": "code",
   "execution_count": 17,
   "metadata": {},
   "outputs": [],
   "source": [
    "import pandas as pd\n",
    "import numpy as np\n",
    "import matplotlib.pyplot as plt\n",
    "import seaborn as sns\n",
    "import math"
   ]
  },
  {
   "cell_type": "code",
   "execution_count": 2,
   "metadata": {},
   "outputs": [],
   "source": [
    "original_df = pd.read_csv('weather_data.csv', low_memory=False)"
   ]
  },
  {
   "cell_type": "code",
   "execution_count": 3,
   "metadata": {},
   "outputs": [
    {
     "name": "stdout",
     "output_type": "stream",
     "text": [
      "<class 'pandas.core.frame.DataFrame'>\n",
      "RangeIndex: 82536 entries, 0 to 82535\n",
      "Data columns (total 12 columns):\n",
      " #   Column                        Non-Null Count  Dtype  \n",
      "---  ------                        --------------  -----  \n",
      " 0   TIME UTC                      82536 non-null  object \n",
      " 1   Temp Definition °C            82287 non-null  float64\n",
      " 2   Dew Point Definition °C       82288 non-null  float64\n",
      " 3   Rel Hum Definition %          82288 non-null  float64\n",
      " 4   Precip. Amount Definition mm  82288 non-null  float64\n",
      " 5   Wind Dir Definition 10's deg  38548 non-null  float64\n",
      " 6   Wind Spd Definition km/h      38548 non-null  float64\n",
      " 7   Visibility Definition km      0 non-null      float64\n",
      " 8   Stn Press Definition kPa      82288 non-null  float64\n",
      " 9   Hmdx Definition               13528 non-null  float64\n",
      " 10  Wind Chill Definition         0 non-null      float64\n",
      " 11  Weather Definition            82288 non-null  object \n",
      "dtypes: float64(10), object(2)\n",
      "memory usage: 7.6+ MB\n"
     ]
    }
   ],
   "source": [
    "original_df.info()"
   ]
  },
  {
   "cell_type": "code",
   "execution_count": 4,
   "metadata": {},
   "outputs": [
    {
     "name": "stdout",
     "output_type": "stream",
     "text": [
      "<class 'pandas.core.frame.DataFrame'>\n",
      "RangeIndex: 3439 entries, 0 to 3438\n",
      "Data columns (total 16 columns):\n",
      " #   Column            Non-Null Count  Dtype  \n",
      "---  ------            --------------  -----  \n",
      " 0   Year              3439 non-null   int64  \n",
      " 1   Month             3439 non-null   int64  \n",
      " 2   Day               3439 non-null   int64  \n",
      " 3   Temp_mean         3439 non-null   float64\n",
      " 4   Temp_max          3439 non-null   float64\n",
      " 5   Temp_min          3439 non-null   float64\n",
      " 6   DewPoint_mean     3439 non-null   float64\n",
      " 7   DewPoint_max      3439 non-null   float64\n",
      " 8   DewPoint_min      3439 non-null   float64\n",
      " 9   RelHum_mean       3439 non-null   float64\n",
      " 10  RelHum_max        3439 non-null   float64\n",
      " 11  RelHum_min        3439 non-null   float64\n",
      " 12  PrecipAmount_sum  3439 non-null   float64\n",
      " 13  StnPress_mean     3439 non-null   float64\n",
      " 14  StnPress_max      3439 non-null   float64\n",
      " 15  StnPress_min      3439 non-null   float64\n",
      "dtypes: float64(13), int64(3)\n",
      "memory usage: 430.0 KB\n"
     ]
    }
   ],
   "source": [
    "processed_df = pd.read_csv(\"preProcessedData.csv\", low_memory=False)\n",
    "\n",
    "processed_df.info()"
   ]
  },
  {
   "cell_type": "code",
   "execution_count": 5,
   "metadata": {},
   "outputs": [
    {
     "data": {
      "text/html": [
       "<div>\n",
       "<style scoped>\n",
       "    .dataframe tbody tr th:only-of-type {\n",
       "        vertical-align: middle;\n",
       "    }\n",
       "\n",
       "    .dataframe tbody tr th {\n",
       "        vertical-align: top;\n",
       "    }\n",
       "\n",
       "    .dataframe thead th {\n",
       "        text-align: right;\n",
       "    }\n",
       "</style>\n",
       "<table border=\"1\" class=\"dataframe\">\n",
       "  <thead>\n",
       "    <tr style=\"text-align: right;\">\n",
       "      <th></th>\n",
       "      <th>Year</th>\n",
       "      <th>Month</th>\n",
       "      <th>Day</th>\n",
       "      <th>Temp_mean</th>\n",
       "      <th>Temp_max</th>\n",
       "      <th>Temp_min</th>\n",
       "      <th>DewPoint_mean</th>\n",
       "      <th>DewPoint_max</th>\n",
       "      <th>DewPoint_min</th>\n",
       "      <th>RelHum_mean</th>\n",
       "      <th>RelHum_max</th>\n",
       "      <th>RelHum_min</th>\n",
       "      <th>PrecipAmount_sum</th>\n",
       "      <th>StnPress_mean</th>\n",
       "      <th>StnPress_max</th>\n",
       "      <th>StnPress_min</th>\n",
       "    </tr>\n",
       "  </thead>\n",
       "  <tbody>\n",
       "    <tr>\n",
       "      <th>0</th>\n",
       "      <td>2015</td>\n",
       "      <td>1</td>\n",
       "      <td>1</td>\n",
       "      <td>-5.092</td>\n",
       "      <td>-2.4</td>\n",
       "      <td>-6.8</td>\n",
       "      <td>-12.758</td>\n",
       "      <td>-10.9</td>\n",
       "      <td>-15.9</td>\n",
       "      <td>55.125</td>\n",
       "      <td>62.0</td>\n",
       "      <td>45.0</td>\n",
       "      <td>0.0</td>\n",
       "      <td>99.931</td>\n",
       "      <td>100.45</td>\n",
       "      <td>99.53</td>\n",
       "    </tr>\n",
       "    <tr>\n",
       "      <th>1</th>\n",
       "      <td>2015</td>\n",
       "      <td>1</td>\n",
       "      <td>2</td>\n",
       "      <td>-1.729</td>\n",
       "      <td>-0.7</td>\n",
       "      <td>-3.1</td>\n",
       "      <td>-8.804</td>\n",
       "      <td>-4.0</td>\n",
       "      <td>-11.9</td>\n",
       "      <td>59.250</td>\n",
       "      <td>85.0</td>\n",
       "      <td>45.0</td>\n",
       "      <td>0.0</td>\n",
       "      <td>100.519</td>\n",
       "      <td>101.31</td>\n",
       "      <td>99.73</td>\n",
       "    </tr>\n",
       "    <tr>\n",
       "      <th>2</th>\n",
       "      <td>2015</td>\n",
       "      <td>1</td>\n",
       "      <td>3</td>\n",
       "      <td>-1.417</td>\n",
       "      <td>1.0</td>\n",
       "      <td>-3.6</td>\n",
       "      <td>-5.121</td>\n",
       "      <td>0.6</td>\n",
       "      <td>-10.6</td>\n",
       "      <td>76.750</td>\n",
       "      <td>99.0</td>\n",
       "      <td>56.0</td>\n",
       "      <td>8.7</td>\n",
       "      <td>101.142</td>\n",
       "      <td>101.62</td>\n",
       "      <td>99.98</td>\n",
       "    </tr>\n",
       "    <tr>\n",
       "      <th>3</th>\n",
       "      <td>2015</td>\n",
       "      <td>1</td>\n",
       "      <td>4</td>\n",
       "      <td>2.854</td>\n",
       "      <td>4.7</td>\n",
       "      <td>1.4</td>\n",
       "      <td>1.988</td>\n",
       "      <td>3.9</td>\n",
       "      <td>-2.0</td>\n",
       "      <td>94.333</td>\n",
       "      <td>100.0</td>\n",
       "      <td>75.0</td>\n",
       "      <td>13.7</td>\n",
       "      <td>99.089</td>\n",
       "      <td>99.87</td>\n",
       "      <td>98.55</td>\n",
       "    </tr>\n",
       "    <tr>\n",
       "      <th>4</th>\n",
       "      <td>2015</td>\n",
       "      <td>1</td>\n",
       "      <td>5</td>\n",
       "      <td>-7.196</td>\n",
       "      <td>0.1</td>\n",
       "      <td>-11.7</td>\n",
       "      <td>-12.212</td>\n",
       "      <td>-0.7</td>\n",
       "      <td>-18.8</td>\n",
       "      <td>67.833</td>\n",
       "      <td>95.0</td>\n",
       "      <td>54.0</td>\n",
       "      <td>0.8</td>\n",
       "      <td>100.647</td>\n",
       "      <td>101.61</td>\n",
       "      <td>99.43</td>\n",
       "    </tr>\n",
       "  </tbody>\n",
       "</table>\n",
       "</div>"
      ],
      "text/plain": [
       "   Year  Month  Day  Temp_mean  Temp_max  Temp_min  DewPoint_mean  \\\n",
       "0  2015      1    1     -5.092      -2.4      -6.8        -12.758   \n",
       "1  2015      1    2     -1.729      -0.7      -3.1         -8.804   \n",
       "2  2015      1    3     -1.417       1.0      -3.6         -5.121   \n",
       "3  2015      1    4      2.854       4.7       1.4          1.988   \n",
       "4  2015      1    5     -7.196       0.1     -11.7        -12.212   \n",
       "\n",
       "   DewPoint_max  DewPoint_min  RelHum_mean  RelHum_max  RelHum_min  \\\n",
       "0         -10.9         -15.9       55.125        62.0        45.0   \n",
       "1          -4.0         -11.9       59.250        85.0        45.0   \n",
       "2           0.6         -10.6       76.750        99.0        56.0   \n",
       "3           3.9          -2.0       94.333       100.0        75.0   \n",
       "4          -0.7         -18.8       67.833        95.0        54.0   \n",
       "\n",
       "   PrecipAmount_sum  StnPress_mean  StnPress_max  StnPress_min  \n",
       "0               0.0         99.931        100.45         99.53  \n",
       "1               0.0        100.519        101.31         99.73  \n",
       "2               8.7        101.142        101.62         99.98  \n",
       "3              13.7         99.089         99.87         98.55  \n",
       "4               0.8        100.647        101.61         99.43  "
      ]
     },
     "execution_count": 5,
     "metadata": {},
     "output_type": "execute_result"
    }
   ],
   "source": [
    "processed_df.head()"
   ]
  },
  {
   "cell_type": "code",
   "execution_count": 6,
   "metadata": {},
   "outputs": [
    {
     "name": "stdout",
     "output_type": "stream",
     "text": [
      "Q1:  Temp_mean            2.0375\n",
      "DewPoint_mean       -3.7670\n",
      "RelHum_mean         57.7920\n",
      "PrecipAmount_sum     0.0000\n",
      "StnPress_mean       99.7785\n",
      "Name: 0.25, dtype: float64 \n",
      "\n",
      "Q3:  Temp_mean            19.1120\n",
      "DewPoint_mean        11.4165\n",
      "RelHum_mean          73.4790\n",
      "PrecipAmount_sum      1.3000\n",
      "StnPress_mean       100.7145\n",
      "Name: 0.75, dtype: float64 \n",
      "\n",
      "IQR:  Temp_mean           17.0745\n",
      "DewPoint_mean       15.1835\n",
      "RelHum_mean         15.6870\n",
      "PrecipAmount_sum     1.3000\n",
      "StnPress_mean        0.9360\n",
      "dtype: float64 \n",
      "\n"
     ]
    }
   ],
   "source": [
    "Q1 = processed_df[['Temp_mean', 'DewPoint_mean', 'RelHum_mean', 'PrecipAmount_sum', 'StnPress_mean']].quantile(0.25)\n",
    "\n",
    "Q3 = processed_df[['Temp_mean', 'DewPoint_mean', 'RelHum_mean', 'PrecipAmount_sum', 'StnPress_mean']].quantile(0.75)\n",
    "\n",
    "IQR = Q3 - Q1\n",
    "\n",
    "print(\"Q1: \", Q1, \"\\n\")\n",
    "print(\"Q3: \", Q3, \"\\n\")\n",
    "print(\"IQR: \", IQR, \"\\n\")"
   ]
  },
  {
   "cell_type": "code",
   "execution_count": 7,
   "metadata": {},
   "outputs": [
    {
     "data": {
      "text/plain": [
       "<Axes: >"
      ]
     },
     "execution_count": 7,
     "metadata": {},
     "output_type": "execute_result"
    },
    {
     "data": {
      "image/png": "[encoded data removed]",
      "text/plain": [
       "<Figure size 1000x500 with 1 Axes>"
      ]
     },
     "metadata": {},
     "output_type": "display_data"
    }
   ],
   "source": [
    "processed_df[['Temp_mean', 'DewPoint_mean', \\\n",
    "              'RelHum_mean', 'PrecipAmount_sum', 'StnPress_mean']] \\\n",
    "            .boxplot(grid=False, vert=False, fontsize=15, figsize=(10, 5))"
   ]
  },
  {
   "cell_type": "code",
   "execution_count": 8,
   "metadata": {},
   "outputs": [
    {
     "data": {
      "text/html": [
       "<div>\n",
       "<style scoped>\n",
       "    .dataframe tbody tr th:only-of-type {\n",
       "        vertical-align: middle;\n",
       "    }\n",
       "\n",
       "    .dataframe tbody tr th {\n",
       "        vertical-align: top;\n",
       "    }\n",
       "\n",
       "    .dataframe thead th {\n",
       "        text-align: right;\n",
       "    }\n",
       "</style>\n",
       "<table border=\"1\" class=\"dataframe\">\n",
       "  <thead>\n",
       "    <tr style=\"text-align: right;\">\n",
       "      <th></th>\n",
       "      <th>Temp_mean</th>\n",
       "      <th>DewPoint_mean</th>\n",
       "      <th>RelHum_mean</th>\n",
       "      <th>PrecipAmount_sum</th>\n",
       "      <th>StnPress_mean</th>\n",
       "    </tr>\n",
       "  </thead>\n",
       "  <tbody>\n",
       "    <tr>\n",
       "      <th>count</th>\n",
       "      <td>3439.000000</td>\n",
       "      <td>3439.000000</td>\n",
       "      <td>3439.000000</td>\n",
       "      <td>3439.000000</td>\n",
       "      <td>3439.000000</td>\n",
       "    </tr>\n",
       "    <tr>\n",
       "      <th>mean</th>\n",
       "      <td>9.911634</td>\n",
       "      <td>3.213395</td>\n",
       "      <td>65.379223</td>\n",
       "      <td>2.209218</td>\n",
       "      <td>100.242320</td>\n",
       "    </tr>\n",
       "    <tr>\n",
       "      <th>std</th>\n",
       "      <td>10.047182</td>\n",
       "      <td>9.594449</td>\n",
       "      <td>12.105542</td>\n",
       "      <td>5.869038</td>\n",
       "      <td>0.724695</td>\n",
       "    </tr>\n",
       "    <tr>\n",
       "      <th>min</th>\n",
       "      <td>-20.504000</td>\n",
       "      <td>-26.329000</td>\n",
       "      <td>24.458000</td>\n",
       "      <td>0.000000</td>\n",
       "      <td>97.090000</td>\n",
       "    </tr>\n",
       "    <tr>\n",
       "      <th>25%</th>\n",
       "      <td>2.037500</td>\n",
       "      <td>-3.767000</td>\n",
       "      <td>57.792000</td>\n",
       "      <td>0.000000</td>\n",
       "      <td>99.778500</td>\n",
       "    </tr>\n",
       "    <tr>\n",
       "      <th>50%</th>\n",
       "      <td>9.588000</td>\n",
       "      <td>2.921000</td>\n",
       "      <td>66.000000</td>\n",
       "      <td>0.000000</td>\n",
       "      <td>100.240000</td>\n",
       "    </tr>\n",
       "    <tr>\n",
       "      <th>75%</th>\n",
       "      <td>19.112000</td>\n",
       "      <td>11.416500</td>\n",
       "      <td>73.479000</td>\n",
       "      <td>1.300000</td>\n",
       "      <td>100.714500</td>\n",
       "    </tr>\n",
       "    <tr>\n",
       "      <th>max</th>\n",
       "      <td>28.742000</td>\n",
       "      <td>22.221000</td>\n",
       "      <td>95.292000</td>\n",
       "      <td>84.900000</td>\n",
       "      <td>102.680000</td>\n",
       "    </tr>\n",
       "  </tbody>\n",
       "</table>\n",
       "</div>"
      ],
      "text/plain": [
       "         Temp_mean  DewPoint_mean  RelHum_mean  PrecipAmount_sum  \\\n",
       "count  3439.000000    3439.000000  3439.000000       3439.000000   \n",
       "mean      9.911634       3.213395    65.379223          2.209218   \n",
       "std      10.047182       9.594449    12.105542          5.869038   \n",
       "min     -20.504000     -26.329000    24.458000          0.000000   \n",
       "25%       2.037500      -3.767000    57.792000          0.000000   \n",
       "50%       9.588000       2.921000    66.000000          0.000000   \n",
       "75%      19.112000      11.416500    73.479000          1.300000   \n",
       "max      28.742000      22.221000    95.292000         84.900000   \n",
       "\n",
       "       StnPress_mean  \n",
       "count    3439.000000  \n",
       "mean      100.242320  \n",
       "std         0.724695  \n",
       "min        97.090000  \n",
       "25%        99.778500  \n",
       "50%       100.240000  \n",
       "75%       100.714500  \n",
       "max       102.680000  "
      ]
     },
     "execution_count": 8,
     "metadata": {},
     "output_type": "execute_result"
    }
   ],
   "source": [
    "processed_df[['Temp_mean', 'DewPoint_mean', \\\n",
    "              'RelHum_mean', 'PrecipAmount_sum', 'StnPress_mean']] \\\n",
    "            .describe()"
   ]
  },
  {
   "cell_type": "code",
   "execution_count": 9,
   "metadata": {},
   "outputs": [
    {
     "data": {
      "text/plain": [
       "<Axes: >"
      ]
     },
     "execution_count": 9,
     "metadata": {},
     "output_type": "execute_result"
    }
   ],
   "source": [
    "processed_df[['StnPress_mean']].boxplot(grid=False, vert=False, fontsize=15, figsize=(10, 5))"
   ]
  },
  {
   "cell_type": "code",
   "execution_count": 10,
   "metadata": {},
   "outputs": [
    {
     "data": {
      "text/plain": [
       "<Axes: >"
      ]
     },
     "execution_count": 10,
     "metadata": {},
     "output_type": "execute_result"
    }
   ],
   "source": [
    "processed_df[['PrecipAmount_sum']].boxplot(grid=False, vert=False, fontsize=15, figsize=(10, 5))"
   ]
  },
  {
   "cell_type": "markdown",
   "metadata": {},
   "source": [
    "### Fill humidex index column"
   ]
  },
  {
   "cell_type": "markdown",
   "metadata": {},
   "source": [
    "- Setup humidex calculate function\n",
    "\n",
    "$$H = T_{air} + \\frac{5}{9} (6.11 exp(5417.7530(\\frac{1}{273.15} - \\frac{1}{273.15 + T_{dew}})) - 10)$$\n",
    "\n",
    "  - **Where:**\n",
    "    - **$H$:** denotes the Humidex\n",
    "    - **$T_{air}$:** is the air temperature in °C\n",
    "    - **$T_{dew}$:** is the dewpoint temperature in °C\n",
    "    - **$exp$:** is the exponential function\n",
    "\n",
    "  - _Reference: [Wikipedia](https://en.wikipedia.org/wiki/Humidex)_"
   ]
  },
  {
   "cell_type": "code",
   "execution_count": 11,
   "metadata": {},
   "outputs": [],
   "source": [
    "def hmdx_cal(temp, dew):\n",
    "    try:\n",
    "        temp = float(temp)\n",
    "        dew = float(dew)\n",
    "    except(ValueError, TypeError):\n",
    "        return -1\n",
    "    \n",
    "    result = temp + (5/9) * (6.11 * math.exp(5417.7530 * ((1 / 273.15)-(1 / (273.15 + dew))))-10)\n",
    "\n",
    "    return max(result, 0) # Because if humidex < 0, then it is not necessary"
   ]
  },
  {
   "cell_type": "markdown",
   "metadata": {},
   "source": [
    "- Use `hmdx_cal` to calculate humidex"
   ]
  },
  {
   "cell_type": "code",
   "execution_count": 22,
   "metadata": {},
   "outputs": [],
   "source": [
    "processed_df['HMDX'] = processed_df.apply(lambda row: round(hmdx_cal(row['Temp_mean'], row['DewPoint_mean']), 1), axis=1)"
   ]
  },
  {
   "cell_type": "code",
   "execution_count": 23,
   "metadata": {},
   "outputs": [
    {
     "name": "stdout",
     "output_type": "stream",
     "text": [
      "      Year  Month  Day  Temp_mean  Temp_max  Temp_min  DewPoint_mean  \\\n",
      "0     2015      1    1     -5.092      -2.4      -6.8        -12.758   \n",
      "1     2015      1    2     -1.729      -0.7      -3.1         -8.804   \n",
      "2     2015      1    3     -1.417       1.0      -3.6         -5.121   \n",
      "3     2015      1    4      2.854       4.7       1.4          1.988   \n",
      "4     2015      1    5     -7.196       0.1     -11.7        -12.212   \n",
      "...    ...    ...  ...        ...       ...       ...            ...   \n",
      "3434  2024      5   27     18.650      23.1      15.7         14.708   \n",
      "3435  2024      5   28     17.042      20.2      15.2         13.283   \n",
      "3436  2024      5   29     16.838      20.5      14.1          9.192   \n",
      "3437  2024      5   30     14.888      19.2       9.9          2.279   \n",
      "3438  2024      5   31     16.258      22.6       9.2          3.900   \n",
      "\n",
      "      DewPoint_max  DewPoint_min  RelHum_mean  RelHum_max  RelHum_min  \\\n",
      "0            -10.9         -15.9       55.125        62.0        45.0   \n",
      "1             -4.0         -11.9       59.250        85.0        45.0   \n",
      "2              0.6         -10.6       76.750        99.0        56.0   \n",
      "3              3.9          -2.0       94.333       100.0        75.0   \n",
      "4             -0.7         -18.8       67.833        95.0        54.0   \n",
      "...            ...           ...          ...         ...         ...   \n",
      "3434          17.9          10.9       79.083        94.0        55.0   \n",
      "3435          14.4          11.9       79.042        93.0        63.0   \n",
      "3436          15.0           2.2       65.250        93.0        30.0   \n",
      "3437           4.6          -0.4       43.875        68.0        31.0   \n",
      "3438           6.7           1.7       45.083        73.0        31.0   \n",
      "\n",
      "      PrecipAmount_sum  StnPress_mean  StnPress_max  StnPress_min  HMDX  \n",
      "0                  0.0         99.931        100.45         99.53   0.0  \n",
      "1                  0.0        100.519        101.31         99.73   0.0  \n",
      "2                  8.7        101.142        101.62         99.98   0.0  \n",
      "3                 13.7         99.089         99.87         98.55   1.2  \n",
      "4                  0.8        100.647        101.61         99.43   0.0  \n",
      "...                ...            ...           ...           ...   ...  \n",
      "3434              30.7         98.768         99.51         98.42  22.4  \n",
      "3435               3.5         99.225         99.75         98.67  20.0  \n",
      "3436               0.5        100.103        100.31         99.78  17.8  \n",
      "3437               0.0        100.630        100.83        100.35  13.3  \n",
      "3438               0.0        100.939        101.18        100.71  15.2  \n",
      "\n",
      "[3439 rows x 17 columns]\n"
     ]
    }
   ],
   "source": [
    "print(processed_df)"
   ]
  },
  {
   "cell_type": "markdown",
   "metadata": {},
   "source": [
    "#### Thêm HMDX label"
   ]
  },
  {
   "cell_type": "code",
   "execution_count": 24,
   "metadata": {},
   "outputs": [],
   "source": [
    "# Thêm cột label dựa trên giá trị HMDX\n",
    "def categorize_hmdx(hmdx):\n",
    "    if hmdx < 30:\n",
    "        return \"Safe\"\n",
    "    else:\n",
    "        return \"Unsafe\""
   ]
  },
  {
   "cell_type": "code",
   "execution_count": 26,
   "metadata": {},
   "outputs": [
    {
     "name": "stdout",
     "output_type": "stream",
     "text": [
      "      Year  Month  Day  Temp_mean  Temp_max  Temp_min  DewPoint_mean  \\\n",
      "0     2015      1    1     -5.092      -2.4      -6.8        -12.758   \n",
      "1     2015      1    2     -1.729      -0.7      -3.1         -8.804   \n",
      "2     2015      1    3     -1.417       1.0      -3.6         -5.121   \n",
      "3     2015      1    4      2.854       4.7       1.4          1.988   \n",
      "4     2015      1    5     -7.196       0.1     -11.7        -12.212   \n",
      "...    ...    ...  ...        ...       ...       ...            ...   \n",
      "3434  2024      5   27     18.650      23.1      15.7         14.708   \n",
      "3435  2024      5   28     17.042      20.2      15.2         13.283   \n",
      "3436  2024      5   29     16.838      20.5      14.1          9.192   \n",
      "3437  2024      5   30     14.888      19.2       9.9          2.279   \n",
      "3438  2024      5   31     16.258      22.6       9.2          3.900   \n",
      "\n",
      "      DewPoint_max  DewPoint_min  RelHum_mean  RelHum_max  RelHum_min  \\\n",
      "0            -10.9         -15.9       55.125        62.0        45.0   \n",
      "1             -4.0         -11.9       59.250        85.0        45.0   \n",
      "2              0.6         -10.6       76.750        99.0        56.0   \n",
      "3              3.9          -2.0       94.333       100.0        75.0   \n",
      "4             -0.7         -18.8       67.833        95.0        54.0   \n",
      "...            ...           ...          ...         ...         ...   \n",
      "3434          17.9          10.9       79.083        94.0        55.0   \n",
      "3435          14.4          11.9       79.042        93.0        63.0   \n",
      "3436          15.0           2.2       65.250        93.0        30.0   \n",
      "3437           4.6          -0.4       43.875        68.0        31.0   \n",
      "3438           6.7           1.7       45.083        73.0        31.0   \n",
      "\n",
      "      PrecipAmount_sum  StnPress_mean  StnPress_max  StnPress_min  HMDX  \\\n",
      "0                  0.0         99.931        100.45         99.53   0.0   \n",
      "1                  0.0        100.519        101.31         99.73   0.0   \n",
      "2                  8.7        101.142        101.62         99.98   0.0   \n",
      "3                 13.7         99.089         99.87         98.55   1.2   \n",
      "4                  0.8        100.647        101.61         99.43   0.0   \n",
      "...                ...            ...           ...           ...   ...   \n",
      "3434              30.7         98.768         99.51         98.42  22.4   \n",
      "3435               3.5         99.225         99.75         98.67  20.0   \n",
      "3436               0.5        100.103        100.31         99.78  17.8   \n",
      "3437               0.0        100.630        100.83        100.35  13.3   \n",
      "3438               0.0        100.939        101.18        100.71  15.2   \n",
      "\n",
      "     HMDX_label  \n",
      "0          Safe  \n",
      "1          Safe  \n",
      "2          Safe  \n",
      "3          Safe  \n",
      "4          Safe  \n",
      "...         ...  \n",
      "3434       Safe  \n",
      "3435       Safe  \n",
      "3436       Safe  \n",
      "3437       Safe  \n",
      "3438       Safe  \n",
      "\n",
      "[3439 rows x 18 columns]\n"
     ]
    }
   ],
   "source": [
    "processed_df['HMDX_label'] = processed_df['HMDX'].apply(categorize_hmdx)\n",
    "print(processed_df)"
   ]
  }
 ],
 "metadata": {
  "kernelspec": {
   "display_name": ".venv",
   "language": "python",
   "name": "python3"
  },
  "language_info": {
   "codemirror_mode": {
    "name": "ipython",
    "version": 3
   },
   "file_extension": ".py",
   "mimetype": "text/x-python",
   "name": "python",
   "nbconvert_exporter": "python",
   "pygments_lexer": "ipython3",
   "version": "3.11.9"
  }
 },
 "nbformat": 4,
 "nbformat_minor": 2
}
