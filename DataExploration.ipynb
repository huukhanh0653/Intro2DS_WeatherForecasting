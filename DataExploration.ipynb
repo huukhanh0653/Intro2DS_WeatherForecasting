{
 "cells": [
  {
   "cell_type": "code",
   "execution_count": 14,
   "metadata": {},
   "outputs": [],
   "source": [
    "import pandas as pd\n",
    "import numpy as np\n",
    "import matplotlib.pyplot as plt\n",
    "import seaborn as sns"
   ]
  },
  {
   "cell_type": "code",
   "execution_count": 15,
   "metadata": {},
   "outputs": [],
   "source": [
    "original_df = pd.read_csv('weather_data.csv', low_memory=False)"
   ]
  },
  {
   "cell_type": "code",
   "execution_count": 16,
   "metadata": {},
   "outputs": [
    {
     "name": "stdout",
     "output_type": "stream",
     "text": [
      "<class 'pandas.core.frame.DataFrame'>\n",
      "RangeIndex: 82536 entries, 0 to 82535\n",
      "Data columns (total 12 columns):\n",
      " #   Column                        Non-Null Count  Dtype  \n",
      "---  ------                        --------------  -----  \n",
      " 0   TIME UTC                      82536 non-null  object \n",
      " 1   Temp Definition °C            82287 non-null  object \n",
      " 2   Dew Point Definition °C       82288 non-null  object \n",
      " 3   Rel Hum Definition %          82288 non-null  object \n",
      " 4   Precip. Amount Definition mm  82288 non-null  object \n",
      " 5   Wind Dir Definition 10's deg  38548 non-null  object \n",
      " 6   Wind Spd Definition km/h      38548 non-null  object \n",
      " 7   Visibility Definition km      0 non-null      float64\n",
      " 8   Stn Press Definition kPa      82288 non-null  object \n",
      " 9   Hmdx Definition               13528 non-null  float64\n",
      " 10  Wind Chill Definition         0 non-null      float64\n",
      " 11  Weather Definition            82288 non-null  object \n",
      "dtypes: float64(3), object(9)\n",
      "memory usage: 7.6+ MB\n"
     ]
    }
   ],
   "source": [
    "original_df.info()"
   ]
  },
  {
   "cell_type": "code",
   "execution_count": 18,
   "metadata": {},
   "outputs": [
    {
     "name": "stdout",
     "output_type": "stream",
     "text": [
      "<class 'pandas.core.frame.DataFrame'>\n",
      "RangeIndex: 3439 entries, 0 to 3438\n",
      "Data columns (total 16 columns):\n",
      " #   Column            Non-Null Count  Dtype  \n",
      "---  ------            --------------  -----  \n",
      " 0   Year              3439 non-null   int64  \n",
      " 1   Month             3439 non-null   int64  \n",
      " 2   Day               3439 non-null   int64  \n",
      " 3   Temp_mean         3439 non-null   float64\n",
      " 4   Temp_max          3439 non-null   float64\n",
      " 5   Temp_min          3439 non-null   float64\n",
      " 6   DewPoint_mean     3439 non-null   float64\n",
      " 7   DewPoint_max      3439 non-null   float64\n",
      " 8   DewPoint_min      3439 non-null   float64\n",
      " 9   RelHum_mean       3439 non-null   float64\n",
      " 10  RelHum_max        3439 non-null   float64\n",
      " 11  RelHum_min        3439 non-null   float64\n",
      " 12  PrecipAmount_sum  3439 non-null   float64\n",
      " 13  StnPress_mean     3439 non-null   float64\n",
      " 14  StnPress_max      3439 non-null   float64\n",
      " 15  StnPress_min      3439 non-null   float64\n",
      "dtypes: float64(13), int64(3)\n",
      "memory usage: 430.0 KB\n"
     ]
    }
   ],
   "source": [
    "processed_df = pd.read_csv(\"preProcessedData.csv\", low_memory=False)\n",
    "\n",
    "processed_df.info()"
   ]
  },
  {
   "cell_type": "code",
   "execution_count": 6,
   "metadata": {},
   "outputs": [
    {
     "data": {
      "text/html": [
       "<div>\n",
       "<style scoped>\n",
       "    .dataframe tbody tr th:only-of-type {\n",
       "        vertical-align: middle;\n",
       "    }\n",
       "\n",
       "    .dataframe tbody tr th {\n",
       "        vertical-align: top;\n",
       "    }\n",
       "\n",
       "    .dataframe thead th {\n",
       "        text-align: right;\n",
       "    }\n",
       "</style>\n",
       "<table border=\"1\" class=\"dataframe\">\n",
       "  <thead>\n",
       "    <tr style=\"text-align: right;\">\n",
       "      <th></th>\n",
       "      <th>Year</th>\n",
       "      <th>Month</th>\n",
       "      <th>Day</th>\n",
       "      <th>Temp_mean</th>\n",
       "      <th>Temp_max</th>\n",
       "      <th>Temp_min</th>\n",
       "      <th>DewPoint_mean</th>\n",
       "      <th>DewPoint_max</th>\n",
       "      <th>DewPoint_min</th>\n",
       "      <th>RelHum_mean</th>\n",
       "      <th>RelHum_max</th>\n",
       "      <th>RelHum_min</th>\n",
       "      <th>PrecipAmount_mean</th>\n",
       "      <th>PrecipAmount_max</th>\n",
       "      <th>PrecipAmount_min</th>\n",
       "      <th>StnPress_mean</th>\n",
       "      <th>StnPress_max</th>\n",
       "      <th>StnPress_min</th>\n",
       "    </tr>\n",
       "  </thead>\n",
       "  <tbody>\n",
       "    <tr>\n",
       "      <th>0</th>\n",
       "      <td>2015</td>\n",
       "      <td>1</td>\n",
       "      <td>1</td>\n",
       "      <td>-5.092</td>\n",
       "      <td>-2.4</td>\n",
       "      <td>-6.8</td>\n",
       "      <td>-12.758</td>\n",
       "      <td>-10.9</td>\n",
       "      <td>-15.9</td>\n",
       "      <td>55.125</td>\n",
       "      <td>62.0</td>\n",
       "      <td>45.0</td>\n",
       "      <td>0.000</td>\n",
       "      <td>0.0</td>\n",
       "      <td>0.0</td>\n",
       "      <td>99.931</td>\n",
       "      <td>100.45</td>\n",
       "      <td>99.53</td>\n",
       "    </tr>\n",
       "    <tr>\n",
       "      <th>1</th>\n",
       "      <td>2015</td>\n",
       "      <td>1</td>\n",
       "      <td>2</td>\n",
       "      <td>-1.729</td>\n",
       "      <td>-0.7</td>\n",
       "      <td>-3.1</td>\n",
       "      <td>-8.804</td>\n",
       "      <td>-4.0</td>\n",
       "      <td>-11.9</td>\n",
       "      <td>59.250</td>\n",
       "      <td>85.0</td>\n",
       "      <td>45.0</td>\n",
       "      <td>0.000</td>\n",
       "      <td>0.0</td>\n",
       "      <td>0.0</td>\n",
       "      <td>100.519</td>\n",
       "      <td>101.31</td>\n",
       "      <td>99.73</td>\n",
       "    </tr>\n",
       "    <tr>\n",
       "      <th>2</th>\n",
       "      <td>2015</td>\n",
       "      <td>1</td>\n",
       "      <td>3</td>\n",
       "      <td>-1.417</td>\n",
       "      <td>1.0</td>\n",
       "      <td>-3.6</td>\n",
       "      <td>-5.121</td>\n",
       "      <td>0.6</td>\n",
       "      <td>-10.6</td>\n",
       "      <td>76.750</td>\n",
       "      <td>99.0</td>\n",
       "      <td>56.0</td>\n",
       "      <td>0.362</td>\n",
       "      <td>2.4</td>\n",
       "      <td>0.0</td>\n",
       "      <td>101.142</td>\n",
       "      <td>101.62</td>\n",
       "      <td>99.98</td>\n",
       "    </tr>\n",
       "    <tr>\n",
       "      <th>3</th>\n",
       "      <td>2015</td>\n",
       "      <td>1</td>\n",
       "      <td>4</td>\n",
       "      <td>2.854</td>\n",
       "      <td>4.7</td>\n",
       "      <td>1.4</td>\n",
       "      <td>1.988</td>\n",
       "      <td>3.9</td>\n",
       "      <td>-2.0</td>\n",
       "      <td>94.333</td>\n",
       "      <td>100.0</td>\n",
       "      <td>75.0</td>\n",
       "      <td>0.571</td>\n",
       "      <td>2.3</td>\n",
       "      <td>0.0</td>\n",
       "      <td>99.089</td>\n",
       "      <td>99.87</td>\n",
       "      <td>98.55</td>\n",
       "    </tr>\n",
       "    <tr>\n",
       "      <th>4</th>\n",
       "      <td>2015</td>\n",
       "      <td>1</td>\n",
       "      <td>5</td>\n",
       "      <td>-7.196</td>\n",
       "      <td>0.1</td>\n",
       "      <td>-11.7</td>\n",
       "      <td>-12.212</td>\n",
       "      <td>-0.7</td>\n",
       "      <td>-18.8</td>\n",
       "      <td>67.833</td>\n",
       "      <td>95.0</td>\n",
       "      <td>54.0</td>\n",
       "      <td>0.033</td>\n",
       "      <td>0.3</td>\n",
       "      <td>0.0</td>\n",
       "      <td>100.647</td>\n",
       "      <td>101.61</td>\n",
       "      <td>99.43</td>\n",
       "    </tr>\n",
       "  </tbody>\n",
       "</table>\n",
       "</div>"
      ],
      "text/plain": [
       "   Year  Month  Day  Temp_mean  Temp_max  Temp_min  DewPoint_mean  \\\n",
       "0  2015      1    1     -5.092      -2.4      -6.8        -12.758   \n",
       "1  2015      1    2     -1.729      -0.7      -3.1         -8.804   \n",
       "2  2015      1    3     -1.417       1.0      -3.6         -5.121   \n",
       "3  2015      1    4      2.854       4.7       1.4          1.988   \n",
       "4  2015      1    5     -7.196       0.1     -11.7        -12.212   \n",
       "\n",
       "   DewPoint_max  DewPoint_min  RelHum_mean  RelHum_max  RelHum_min  \\\n",
       "0         -10.9         -15.9       55.125        62.0        45.0   \n",
       "1          -4.0         -11.9       59.250        85.0        45.0   \n",
       "2           0.6         -10.6       76.750        99.0        56.0   \n",
       "3           3.9          -2.0       94.333       100.0        75.0   \n",
       "4          -0.7         -18.8       67.833        95.0        54.0   \n",
       "\n",
       "   PrecipAmount_mean  PrecipAmount_max  PrecipAmount_min  StnPress_mean  \\\n",
       "0              0.000               0.0               0.0         99.931   \n",
       "1              0.000               0.0               0.0        100.519   \n",
       "2              0.362               2.4               0.0        101.142   \n",
       "3              0.571               2.3               0.0         99.089   \n",
       "4              0.033               0.3               0.0        100.647   \n",
       "\n",
       "   StnPress_max  StnPress_min  \n",
       "0        100.45         99.53  \n",
       "1        101.31         99.73  \n",
       "2        101.62         99.98  \n",
       "3         99.87         98.55  \n",
       "4        101.61         99.43  "
      ]
     },
     "execution_count": 6,
     "metadata": {},
     "output_type": "execute_result"
    }
   ],
   "source": [
    "processed_df.head()"
   ]
  },
  {
   "cell_type": "code",
   "execution_count": 25,
   "metadata": {},
   "outputs": [
    {
     "name": "stdout",
     "output_type": "stream",
     "text": [
      "Q1:  Temp_mean            2.0375\n",
      "DewPoint_mean       -3.7670\n",
      "RelHum_mean         57.7920\n",
      "PrecipAmount_sum     0.0000\n",
      "StnPress_mean       99.7785\n",
      "Name: 0.25, dtype: float64 \n",
      "\n",
      "Q3:  Temp_mean            19.1120\n",
      "DewPoint_mean        11.4165\n",
      "RelHum_mean          73.4790\n",
      "PrecipAmount_sum      1.3000\n",
      "StnPress_mean       100.7145\n",
      "Name: 0.75, dtype: float64 \n",
      "\n",
      "IQR:  Temp_mean           17.0745\n",
      "DewPoint_mean       15.1835\n",
      "RelHum_mean         15.6870\n",
      "PrecipAmount_sum     1.3000\n",
      "StnPress_mean        0.9360\n",
      "dtype: float64 \n",
      "\n"
     ]
    }
   ],
   "source": [
    "Q1 = processed_df[['Temp_mean', 'DewPoint_mean', 'RelHum_mean', 'PrecipAmount_sum', 'StnPress_mean']].quantile(0.25)\n",
    "\n",
    "Q3 = processed_df[['Temp_mean', 'DewPoint_mean', 'RelHum_mean', 'PrecipAmount_sum', 'StnPress_mean']].quantile(0.75)\n",
    "\n",
    "IQR = Q3 - Q1\n",
    "\n",
    "print(\"Q1: \", Q1, \"\\n\")\n",
    "print(\"Q3: \", Q3, \"\\n\")\n",
    "print(\"IQR: \", IQR, \"\\n\")"
   ]
  },
  {
   "cell_type": "code",
   "execution_count": null,
   "metadata": {},
   "outputs": [
    {
     "data": {
      "text/plain": [
       "<Axes: >"
      ]
     },
     "execution_count": 27,
     "metadata": {},
     "output_type": "execute_result"
    },
    {
     "data": {
      "image/png": "[encoded data removed]",
      "text/plain": [
       "<Figure size 1000x500 with 1 Axes>"
      ]
     },
     "metadata": {},
     "output_type": "display_data"
    }
   ],
   "source": [
    "processed_df[['Temp_mean', 'DewPoint_mean', \\\n",
    "              'RelHum_mean', 'PrecipAmount_sum', 'StnPress_mean']] \\\n",
    "            .boxplot(grid=False, vert=False, fontsize=15, figsize=(10, 5))"
   ]
  },
  {
   "cell_type": "code",
   "execution_count": 28,
   "metadata": {},
   "outputs": [
    {
     "data": {
      "text/html": [
       "<div>\n",
       "<style scoped>\n",
       "    .dataframe tbody tr th:only-of-type {\n",
       "        vertical-align: middle;\n",
       "    }\n",
       "\n",
       "    .dataframe tbody tr th {\n",
       "        vertical-align: top;\n",
       "    }\n",
       "\n",
       "    .dataframe thead th {\n",
       "        text-align: right;\n",
       "    }\n",
       "</style>\n",
       "<table border=\"1\" class=\"dataframe\">\n",
       "  <thead>\n",
       "    <tr style=\"text-align: right;\">\n",
       "      <th></th>\n",
       "      <th>Temp_mean</th>\n",
       "      <th>DewPoint_mean</th>\n",
       "      <th>RelHum_mean</th>\n",
       "      <th>PrecipAmount_sum</th>\n",
       "      <th>StnPress_mean</th>\n",
       "    </tr>\n",
       "  </thead>\n",
       "  <tbody>\n",
       "    <tr>\n",
       "      <th>count</th>\n",
       "      <td>3439.000000</td>\n",
       "      <td>3439.000000</td>\n",
       "      <td>3439.000000</td>\n",
       "      <td>3439.000000</td>\n",
       "      <td>3439.000000</td>\n",
       "    </tr>\n",
       "    <tr>\n",
       "      <th>mean</th>\n",
       "      <td>9.911634</td>\n",
       "      <td>3.213395</td>\n",
       "      <td>65.379223</td>\n",
       "      <td>2.209218</td>\n",
       "      <td>100.242320</td>\n",
       "    </tr>\n",
       "    <tr>\n",
       "      <th>std</th>\n",
       "      <td>10.047182</td>\n",
       "      <td>9.594449</td>\n",
       "      <td>12.105542</td>\n",
       "      <td>5.869038</td>\n",
       "      <td>0.724695</td>\n",
       "    </tr>\n",
       "    <tr>\n",
       "      <th>min</th>\n",
       "      <td>-20.504000</td>\n",
       "      <td>-26.329000</td>\n",
       "      <td>24.458000</td>\n",
       "      <td>0.000000</td>\n",
       "      <td>97.090000</td>\n",
       "    </tr>\n",
       "    <tr>\n",
       "      <th>25%</th>\n",
       "      <td>2.037500</td>\n",
       "      <td>-3.767000</td>\n",
       "      <td>57.792000</td>\n",
       "      <td>0.000000</td>\n",
       "      <td>99.778500</td>\n",
       "    </tr>\n",
       "    <tr>\n",
       "      <th>50%</th>\n",
       "      <td>9.588000</td>\n",
       "      <td>2.921000</td>\n",
       "      <td>66.000000</td>\n",
       "      <td>0.000000</td>\n",
       "      <td>100.240000</td>\n",
       "    </tr>\n",
       "    <tr>\n",
       "      <th>75%</th>\n",
       "      <td>19.112000</td>\n",
       "      <td>11.416500</td>\n",
       "      <td>73.479000</td>\n",
       "      <td>1.300000</td>\n",
       "      <td>100.714500</td>\n",
       "    </tr>\n",
       "    <tr>\n",
       "      <th>max</th>\n",
       "      <td>28.742000</td>\n",
       "      <td>22.221000</td>\n",
       "      <td>95.292000</td>\n",
       "      <td>84.900000</td>\n",
       "      <td>102.680000</td>\n",
       "    </tr>\n",
       "  </tbody>\n",
       "</table>\n",
       "</div>"
      ],
      "text/plain": [
       "         Temp_mean  DewPoint_mean  RelHum_mean  PrecipAmount_sum  \\\n",
       "count  3439.000000    3439.000000  3439.000000       3439.000000   \n",
       "mean      9.911634       3.213395    65.379223          2.209218   \n",
       "std      10.047182       9.594449    12.105542          5.869038   \n",
       "min     -20.504000     -26.329000    24.458000          0.000000   \n",
       "25%       2.037500      -3.767000    57.792000          0.000000   \n",
       "50%       9.588000       2.921000    66.000000          0.000000   \n",
       "75%      19.112000      11.416500    73.479000          1.300000   \n",
       "max      28.742000      22.221000    95.292000         84.900000   \n",
       "\n",
       "       StnPress_mean  \n",
       "count    3439.000000  \n",
       "mean      100.242320  \n",
       "std         0.724695  \n",
       "min        97.090000  \n",
       "25%        99.778500  \n",
       "50%       100.240000  \n",
       "75%       100.714500  \n",
       "max       102.680000  "
      ]
     },
     "execution_count": 28,
     "metadata": {},
     "output_type": "execute_result"
    }
   ],
   "source": [
    "processed_df[['Temp_mean', 'DewPoint_mean', \\\n",
    "              'RelHum_mean', 'PrecipAmount_sum', 'StnPress_mean']] \\\n",
    "            .describe()"
   ]
  },
  {
   "cell_type": "code",
   "execution_count": 33,
   "metadata": {},
   "outputs": [
    {
     "data": {
      "text/plain": [
       "<Axes: >"
      ]
     },
     "execution_count": 33,
     "metadata": {},
     "output_type": "execute_result"
    },
    {
     "data": {
      "image/png": "[encoded data removed]",
      "text/plain": [
       "<Figure size 1000x500 with 1 Axes>"
      ]
     },
     "metadata": {},
     "output_type": "display_data"
    }
   ],
   "source": [
    "processed_df[['StnPress_mean']].boxplot(grid=False, vert=False, fontsize=15, figsize=(10, 5))"
   ]
  },
  {
   "cell_type": "code",
   "execution_count": 32,
   "metadata": {},
   "outputs": [
    {
     "data": {
      "text/plain": [
       "<Axes: >"
      ]
     },
     "execution_count": 32,
     "metadata": {},
     "output_type": "execute_result"
    },
    {
     "data": {
      "image/png": "[encoded data removed]",
      "text/plain": [
       "<Figure size 1000x500 with 1 Axes>"
      ]
     },
     "metadata": {},
     "output_type": "display_data"
    }
   ],
   "source": [
    "processed_df[['PrecipAmount_sum']].boxplot(grid=False, vert=False, fontsize=15, figsize=(10, 5))"
   ]
  }
 ],
 "metadata": {
  "kernelspec": {
   "display_name": "base",
   "language": "python",
   "name": "python3"
  },
  "language_info": {
   "codemirror_mode": {
    "name": "ipython",
    "version": 3
   },
   "file_extension": ".py",
   "mimetype": "text/x-python",
   "name": "python",
   "nbconvert_exporter": "python",
   "pygments_lexer": "ipython3",
   "version": "3.12.3"
  }
 },
 "nbformat": 4,
 "nbformat_minor": 2
}
