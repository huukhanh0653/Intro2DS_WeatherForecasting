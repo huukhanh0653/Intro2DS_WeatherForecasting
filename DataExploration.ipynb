{
 "cells": [
  {
   "cell_type": "code",
   "execution_count": null,
   "metadata": {},
   "outputs": [
    {
     "data": {
      "text/plain": [
       "Traceback (most recent call last):\n",
       "  File \"c:\\Users\\phamg\\.vscode\\extensions\\ms-python.python-2024.20.0-win32-x64\\python_files\\python_server.py\", line 130, in exec_user_input\n",
       "    retval = callable_(user_input, user_globals)\n",
       "  File \"<string>\", line 3, in <module>\n",
       "ModuleNotFoundError: No module named 'matplotlib'\n",
       "\n"
      ]
     },
     "metadata": {},
     "output_type": "display_data"
    }
   ],
   "source": [
    "import pandas as pd\n",
    "import numpy as np\n",
    "import matplotlib.pyplot as plt\n",
    "import seaborn as sns\n",
    "import math"
   ]
  },
  {
   "cell_type": "code",
   "execution_count": null,
   "metadata": {},
   "outputs": [],
   "source": [
    "original_df = pd.read_csv('weather_data.csv', low_memory=False)"
   ]
  },
  {
   "cell_type": "code",
   "execution_count": null,
   "metadata": {},
   "outputs": [
    {
     "data": {
      "text/plain": [
       "<class 'pandas.core.frame.DataFrame'>\n",
       "RangeIndex: 82536 entries, 0 to 82535\n",
       "Data columns (total 12 columns):\n",
       " #   Column                        Non-Null Count  Dtype  \n",
       "---  ------                        --------------  -----  \n",
       " 0   TIME UTC                      82536 non-null  object \n",
       " 1   Temp Definition °C            82287 non-null  float64\n",
       " 2   Dew Point Definition °C       82288 non-null  float64\n",
       " 3   Rel Hum Definition %          82288 non-null  float64\n",
       " 4   Precip. Amount Definition mm  82288 non-null  float64\n",
       " 5   Wind Dir Definition 10's deg  38548 non-null  float64\n",
       " 6   Wind Spd Definition km/h      38548 non-null  float64\n",
       " 7   Visibility Definition km      0 non-null      float64\n",
       " 8   Stn Press Definition kPa      82288 non-null  float64\n",
       " 9   Hmdx Definition               13528 non-null  float64\n",
       " 10  Wind Chill Definition         0 non-null      float64\n",
       " 11  Weather Definition            82288 non-null  object \n",
       "dtypes: float64(10), object(2)\n",
       "memory usage: 7.6+ MB\n"
      ]
     },
     "metadata": {},
     "output_type": "display_data"
    }
   ],
   "source": [
    "original_df.info()"
   ]
  },
  {
   "cell_type": "code",
   "execution_count": null,
   "metadata": {},
   "outputs": [
    {
     "data": {
      "text/plain": [
       "<class 'pandas.core.frame.DataFrame'>\n",
       "RangeIndex: 3439 entries, 0 to 3438\n",
       "Data columns (total 16 columns):\n",
       " #   Column            Non-Null Count  Dtype  \n",
       "---  ------            --------------  -----  \n",
       " 0   Year              3439 non-null   int64  \n",
       " 1   Month             3439 non-null   int64  \n",
       " 2   Day               3439 non-null   int64  \n",
       " 3   Temp_mean         3439 non-null   float64\n",
       " 4   Temp_max          3439 non-null   float64\n",
       " 5   Temp_min          3439 non-null   float64\n",
       " 6   DewPoint_mean     3439 non-null   float64\n",
       " 7   DewPoint_max      3439 non-null   float64\n",
       " 8   DewPoint_min      3439 non-null   float64\n",
       " 9   RelHum_mean       3439 non-null   float64\n",
       " 10  RelHum_max        3439 non-null   float64\n",
       " 11  RelHum_min        3439 non-null   float64\n",
       " 12  PrecipAmount_sum  3439 non-null   float64\n",
       " 13  StnPress_mean     3439 non-null   float64\n",
       " 14  StnPress_max      3439 non-null   float64\n",
       " 15  StnPress_min      3439 non-null   float64\n",
       "dtypes: float64(13), int64(3)\n",
       "memory usage: 430.0 KB\n"
      ]
     },
     "metadata": {},
     "output_type": "display_data"
    }
   ],
   "source": [
    "processed_df = pd.read_csv(\"preProcessedData.csv\", low_memory=False)\n",
    "\n",
    "processed_df.info()"
   ]
  },
  {
   "cell_type": "code",
   "execution_count": null,
   "metadata": {},
   "outputs": [
    {
     "data": {
      "text/plain": [
       "   Year  Month  Day  ...  StnPress_mean  StnPress_max  StnPress_min\n",
       "0  2015      1    1  ...         99.931        100.45         99.53\n",
       "1  2015      1    2  ...        100.519        101.31         99.73\n",
       "2  2015      1    3  ...        101.142        101.62         99.98\n",
       "3  2015      1    4  ...         99.089         99.87         98.55\n",
       "4  2015      1    5  ...        100.647        101.61         99.43\n",
       "\n",
       "[5 rows x 16 columns]\n"
      ]
     },
     "metadata": {},
     "output_type": "display_data"
    }
   ],
   "source": [
    "processed_df.head()"
   ]
  },
  {
   "cell_type": "code",
   "execution_count": null,
   "metadata": {},
   "outputs": [
    {
     "data": {
      "text/plain": [
       "Q1:  Temp_mean            2.0375\n",
       "DewPoint_mean       -3.7670\n",
       "RelHum_mean         57.7920\n",
       "PrecipAmount_sum     0.0000\n",
       "StnPress_mean       99.7785\n",
       "Name: 0.25, dtype: float64 \n",
       "\n",
       "Q3:  Temp_mean            19.1120\n",
       "DewPoint_mean        11.4165\n",
       "RelHum_mean          73.4790\n",
       "PrecipAmount_sum      1.3000\n",
       "StnPress_mean       100.7145\n",
       "Name: 0.75, dtype: float64 \n",
       "\n",
       "IQR:  Temp_mean           17.0745\n",
       "DewPoint_mean       15.1835\n",
       "RelHum_mean         15.6870\n",
       "PrecipAmount_sum     1.3000\n",
       "StnPress_mean        0.9360\n",
       "dtype: float64 \n",
       "\n"
      ]
     },
     "metadata": {},
     "output_type": "display_data"
    }
   ],
   "source": [
    "Q1 = processed_df[['Temp_mean', 'DewPoint_mean', 'RelHum_mean', 'PrecipAmount_sum', 'StnPress_mean']].quantile(0.25)\n",
    "\n",
    "Q3 = processed_df[['Temp_mean', 'DewPoint_mean', 'RelHum_mean', 'PrecipAmount_sum', 'StnPress_mean']].quantile(0.75)\n",
    "\n",
    "IQR = Q3 - Q1\n",
    "\n",
    "print(\"Q1: \", Q1, \"\\n\")\n",
    "print(\"Q3: \", Q3, \"\\n\")\n",
    "print(\"IQR: \", IQR, \"\\n\")"
   ]
  },
  {
   "cell_type": "code",
   "execution_count": null,
   "metadata": {},
   "outputs": [
    {
     "data": {
      "text/plain": [
       "Axes(0.125,0.11;0.775x0.77)\n"
      ]
     },
     "metadata": {},
     "output_type": "display_data"
    }
   ],
   "source": [
    "processed_df[['Temp_mean', 'DewPoint_mean', \\\n",
    "              'RelHum_mean', 'PrecipAmount_sum', 'StnPress_mean']] \\\n",
    "            .boxplot(grid=False, vert=False, fontsize=15, figsize=(10, 5))"
   ]
  },
  {
   "cell_type": "code",
   "execution_count": null,
   "metadata": {},
   "outputs": [
    {
     "data": {
      "text/plain": [
       "         Temp_mean  DewPoint_mean  RelHum_mean  PrecipAmount_sum  StnPress_mean\n",
       "count  3439.000000    3439.000000  3439.000000       3439.000000    3439.000000\n",
       "mean      9.911634       3.213395    65.379223          2.209218     100.242320\n",
       "std      10.047182       9.594449    12.105542          5.869038       0.724695\n",
       "min     -20.504000     -26.329000    24.458000          0.000000      97.090000\n",
       "25%       2.037500      -3.767000    57.792000          0.000000      99.778500\n",
       "50%       9.588000       2.921000    66.000000          0.000000     100.240000\n",
       "75%      19.112000      11.416500    73.479000          1.300000     100.714500\n",
       "max      28.742000      22.221000    95.292000         84.900000     102.680000\n"
      ]
     },
     "metadata": {},
     "output_type": "display_data"
    }
   ],
   "source": [
    "processed_df[['Temp_mean', 'DewPoint_mean', \\\n",
    "              'RelHum_mean', 'PrecipAmount_sum', 'StnPress_mean']] \\\n",
    "            .describe()"
   ]
  },
  {
   "cell_type": "code",
   "execution_count": null,
   "metadata": {},
   "outputs": [
    {
     "data": {
      "text/plain": [
       "Axes(0.125,0.11;0.775x0.77)\n"
      ]
     },
     "metadata": {},
     "output_type": "display_data"
    }
   ],
   "source": [
    "processed_df[['StnPress_mean']].boxplot(grid=False, vert=False, fontsize=15, figsize=(10, 5))"
   ]
  },
  {
   "cell_type": "code",
   "execution_count": null,
   "metadata": {},
   "outputs": [
    {
     "data": {
      "text/plain": [
       "Axes(0.125,0.11;0.775x0.77)\n"
      ]
     },
     "metadata": {},
     "output_type": "display_data"
    }
   ],
   "source": [
    "processed_df[['PrecipAmount_sum']].boxplot(grid=False, vert=False, fontsize=15, figsize=(10, 5))"
   ]
  },
  {
   "cell_type": "markdown",
   "metadata": {},
   "source": [
    "### Fill humidex index column"
   ]
  },
  {
   "cell_type": "markdown",
   "metadata": {},
   "source": [
    "- Setup humidex calculate function\n",
    "\n",
    "$$H = T_{air} + \\frac{5}{9} (6.11 exp(5417.7530(\\frac{1}{273.15} - \\frac{1}{273.15 + T_{dew}})) - 10)$$\n",
    "\n",
    "  - **Where:**\n",
    "    - **$H$:** denotes the Humidex\n",
    "    - **$T_{air}$:** is the air temperature in °C\n",
    "    - **$T_{dew}$:** is the dewpoint temperature in °C\n",
    "    - **$exp$:** is the exponential function\n",
    "\n",
    "  - _Reference: [Wikipedia](https://en.wikipedia.org/wiki/Humidex)_"
   ]
  },
  {
   "cell_type": "code",
   "execution_count": null,
   "metadata": {},
   "outputs": [],
   "source": [
    "def hmdx_cal(temp, dew):\n",
    "    try:\n",
    "        temp = float(temp)\n",
    "        dew = float(dew)\n",
    "    except(ValueError, TypeError):\n",
    "        return -1\n",
    "    \n",
    "    result = temp + (5/9) * (6.11 * math.exp(5417.7530 * ((1 / 273.15)-(1 / (273.15 + dew))))-10)\n",
    "\n",
    "    return max(result, 0) # Because if humidex < 0, then it is not necessary"
   ]
  },
  {
   "cell_type": "markdown",
   "metadata": {},
   "source": [
    "- Use `hmdx_cal` to calculate humidex"
   ]
  },
  {
   "cell_type": "code",
   "execution_count": null,
   "metadata": {},
   "outputs": [
    {
     "data": {
      "text/plain": [
       "Traceback (most recent call last):\n",
       "  File \"c:\\Users\\phamg\\.vscode\\extensions\\ms-python.python-2024.20.0-win32-x64\\python_files\\python_server.py\", line 130, in exec_user_input\n",
       "    retval = callable_(user_input, user_globals)\n",
       "  File \"<string>\", line 1, in <module>\n",
       "  File \"C:\\Users\\phamg\\AppData\\Local\\Programs\\Python\\Python310\\lib\\site-packages\\pandas\\core\\frame.py\", line 10374, in apply\n",
       "    return op.apply().__finalize__(self, method=\"apply\")\n",
       "  File \"C:\\Users\\phamg\\AppData\\Local\\Programs\\Python\\Python310\\lib\\site-packages\\pandas\\core\\apply.py\", line 916, in apply\n",
       "    return self.apply_standard()\n",
       "  File \"C:\\Users\\phamg\\AppData\\Local\\Programs\\Python\\Python310\\lib\\site-packages\\pandas\\core\\apply.py\", line 1063, in apply_standard\n",
       "    results, res_index = self.apply_series_generator()\n",
       "  File \"C:\\Users\\phamg\\AppData\\Local\\Programs\\Python\\Python310\\lib\\site-packages\\pandas\\core\\apply.py\", line 1081, in apply_series_generator\n",
       "    results[i] = self.func(v, *self.args, **self.kwargs)\n",
       "  File \"<string>\", line 1, in <lambda>\n",
       "  File \"<string>\", line 8, in hmdx_cal\n",
       "NameError: name 'math' is not defined\n",
       "\n"
      ]
     },
     "metadata": {},
     "output_type": "display_data"
    }
   ],
   "source": [
    "processed_df['HMDX'] = processed_df.apply(lambda row: round(hmdx_cal(row['Temp_mean'], row['DewPoint_mean']), 1), axis=1)"
   ]
  },
  {
   "cell_type": "code",
   "execution_count": null,
   "metadata": {},
   "outputs": [
    {
     "data": {
      "text/plain": [
       "      Year  Month  Day  ...  StnPress_max  StnPress_min  HMDX\n",
       "0     2015      1    1  ...        100.45         99.53   0.0\n",
       "1     2015      1    2  ...        101.31         99.73   0.0\n",
       "2     2015      1    3  ...        101.62         99.98   0.0\n",
       "3     2015      1    4  ...         99.87         98.55   1.2\n",
       "4     2015      1    5  ...        101.61         99.43   0.0\n",
       "...    ...    ...  ...  ...           ...           ...   ...\n",
       "3434  2024      5   27  ...         99.51         98.42  22.4\n",
       "3435  2024      5   28  ...         99.75         98.67  20.0\n",
       "3436  2024      5   29  ...        100.31         99.78  17.8\n",
       "3437  2024      5   30  ...        100.83        100.35  13.3\n",
       "3438  2024      5   31  ...        101.18        100.71  15.2\n",
       "\n",
       "[3439 rows x 17 columns]\n"
      ]
     },
     "metadata": {},
     "output_type": "display_data"
    }
   ],
   "source": [
    "print(processed_df)"
   ]
  },
  {
   "cell_type": "markdown",
   "metadata": {},
   "source": [
    "#### Thêm HMDX label"
   ]
  },
  {
   "cell_type": "code",
   "execution_count": null,
   "metadata": {},
   "outputs": [],
   "source": [
    "# Thêm cột label dựa trên giá trị HMDX\n",
    "def categorize_hmdx(hmdx):\n",
    "    if hmdx < 30:\n",
    "        return \"Safe\"\n",
    "    else:\n",
    "        return \"Unsafe\""
   ]
  },
  {
   "cell_type": "code",
   "execution_count": null,
   "metadata": {},
   "outputs": [
    {
     "data": {
      "text/plain": [
       "      Year  Month  Day  Temp_mean  ...  StnPress_max  StnPress_min  HMDX  HMDX_label\n",
       "0     2015      1    1     -5.092  ...        100.45         99.53   0.0        Safe\n",
       "1     2015      1    2     -1.729  ...        101.31         99.73   0.0        Safe\n",
       "2     2015      1    3     -1.417  ...        101.62         99.98   0.0        Safe\n",
       "3     2015      1    4      2.854  ...         99.87         98.55   1.2        Safe\n",
       "4     2015      1    5     -7.196  ...        101.61         99.43   0.0        Safe\n",
       "...    ...    ...  ...        ...  ...           ...           ...   ...         ...\n",
       "3434  2024      5   27     18.650  ...         99.51         98.42  22.4        Safe\n",
       "3435  2024      5   28     17.042  ...         99.75         98.67  20.0        Safe\n",
       "3436  2024      5   29     16.838  ...        100.31         99.78  17.8        Safe\n",
       "3437  2024      5   30     14.888  ...        100.83        100.35  13.3        Safe\n",
       "3438  2024      5   31     16.258  ...        101.18        100.71  15.2        Safe\n",
       "\n",
       "[3439 rows x 18 columns]\n"
      ]
     },
     "metadata": {},
     "output_type": "display_data"
    }
   ],
   "source": [
    "processed_df['HMDX_label'] = processed_df['HMDX'].apply(categorize_hmdx)\n",
    "print(processed_df)"
   ]
  }
 ],
 "metadata": {
  "kernelspec": {
   "display_name": ".venv",
   "language": "python",
   "name": "python3"
  },
  "language_info": {
   "codemirror_mode": {
    "name": "ipython",
    "version": 3
   },
   "file_extension": ".py",
   "mimetype": "text/x-python",
   "name": "python",
   "nbconvert_exporter": "python",
   "pygments_lexer": "ipython3",
   "version": "3.11.9"
  }
 },
 "nbformat": 4,
 "nbformat_minor": 2
}
