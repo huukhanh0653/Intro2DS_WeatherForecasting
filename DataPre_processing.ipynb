{
 "cells": [
  {
   "cell_type": "code",
   "execution_count": 1,
   "metadata": {},
   "outputs": [],
   "source": [
    "import pandas as pd\n",
    "import numpy as np\n",
    "import matplotlib.pyplot as plt\n",
    "import datetime"
   ]
  },
  {
   "cell_type": "code",
   "execution_count": 2,
   "metadata": {},
   "outputs": [
    {
     "name": "stderr",
     "output_type": "stream",
     "text": [
      "C:\\Users\\nhk06\\AppData\\Local\\Temp\\ipykernel_30492\\3155273763.py:1: DtypeWarning: Columns (1,2,3,4,5,6,8) have mixed types. Specify dtype option on import or set low_memory=False.\n",
      "  original_df = pd.read_csv(\"weather_data.csv\")\n"
     ]
    }
   ],
   "source": [
    "original_df = pd.read_csv(\"weather_data.csv\")\n"
   ]
  },
  {
   "cell_type": "code",
   "execution_count": 3,
   "metadata": {},
   "outputs": [
    {
     "name": "stdout",
     "output_type": "stream",
     "text": [
      "<class 'pandas.core.frame.DataFrame'>\n",
      "RangeIndex: 82536 entries, 0 to 82535\n",
      "Data columns (total 12 columns):\n",
      " #   Column                        Non-Null Count  Dtype  \n",
      "---  ------                        --------------  -----  \n",
      " 0   TIME UTC                      82536 non-null  object \n",
      " 1   Temp Definition °C            82287 non-null  object \n",
      " 2   Dew Point Definition °C       82288 non-null  object \n",
      " 3   Rel Hum Definition %          82288 non-null  object \n",
      " 4   Precip. Amount Definition mm  82288 non-null  object \n",
      " 5   Wind Dir Definition 10's deg  38548 non-null  object \n",
      " 6   Wind Spd Definition km/h      38548 non-null  object \n",
      " 7   Visibility Definition km      0 non-null      float64\n",
      " 8   Stn Press Definition kPa      82288 non-null  object \n",
      " 9   Hmdx Definition               13528 non-null  float64\n",
      " 10  Wind Chill Definition         0 non-null      float64\n",
      " 11  Weather Definition            82288 non-null  object \n",
      "dtypes: float64(3), object(9)\n",
      "memory usage: 7.6+ MB\n"
     ]
    }
   ],
   "source": [
    "original_df.info()"
   ]
  },
  {
   "cell_type": "code",
   "execution_count": 25,
   "metadata": {},
   "outputs": [],
   "source": [
    "original_df.drop(columns=[\"Wind Dir Definition 10's deg\", \"Wind Spd Definition km/h\", \"Visibility Definition km\", \\\n",
    "                          \"Wind Chill Definition\", \"Hmdx Definition\", \"Weather Definition\"], inplace=True)"
   ]
  },
  {
   "cell_type": "code",
   "execution_count": 27,
   "metadata": {},
   "outputs": [],
   "source": [
    "original_df.to_csv(\"weather_data_drop.csv\", index=False)"
   ]
  },
  {
   "cell_type": "markdown",
   "metadata": {},
   "source": [
    "#### Drop: <i>Wind Dir Definition 10's deg, Wind Spd Definition km/h, Visibility Definition km, Wind Chill Definition, Hmdx Definition, Weather Definition.</i>"
   ]
  },
  {
   "cell_type": "markdown",
   "metadata": {},
   "source": [
    "Gắn thêm cột ngày, tháng, năm vào để dễ làm việc"
   ]
  },
  {
   "cell_type": "code",
   "execution_count": 3,
   "metadata": {},
   "outputs": [],
   "source": [
    "original_df.drop(columns=[\"Wind Dir Definition 10's deg\", \"Wind Spd Definition km/h\", \"Visibility Definition km\", \\\n",
    "                          \"Wind Chill Definition\", \"Hmdx Definition\", \"Weather Definition\"], inplace=True)\n",
    "original_df['Time'] = pd.to_datetime(original_df['TIME UTC']).dt.time\n",
    "original_df['Day'] = pd.to_datetime(original_df['TIME UTC']).dt.day # get the day of Time UTC\n",
    "original_df['Month'] = pd.to_datetime(original_df['TIME UTC']).dt.month\n",
    "original_df['Year'] = pd.to_datetime(original_df['TIME UTC']).dt.year"
   ]
  },
  {
   "cell_type": "markdown",
   "metadata": {},
   "source": [
    "#### Handle missing value: \n",
    "- Không thể drop missing value do đây là dữ liệu có yếu tố thời gian.\n",
    "\n",
    "- Chiến lược\n",
    "    -> Điền vào các cột trống giá trị của hàng cùng giờ, cùng ngày, cùng tháng nhưng có giá trị năm trong quá khứ gần nhất.\n",
    "        => Cùng tháng, cùng mùa trong năm thì trong phần lớn trường hợp sẽ tương đồng nhau về nhiệt độ, độ ẩm và các yếu tố khác\n"
   ]
  },
  {
   "cell_type": "code",
   "execution_count": 4,
   "metadata": {},
   "outputs": [],
   "source": [
    "import pandas as pd\n",
    "\n",
    "def fill_missing(column: str, df: pd.DataFrame):\n",
    "    NaN_indices = df[pd.isna(df[column])].index\n",
    "    \n",
    "    for i in NaN_indices:\n",
    "        year = df.at[i, 'Year']\n",
    "        month = df.at[i, 'Month']\n",
    "        day = df.at[i, 'Day']\n",
    "        time = df.at[i, 'Time']\n",
    "        filled = False\n",
    "        \n",
    "        # Tìm giá trị trong quá khứ\n",
    "        for j in range(year - 1, 2015 - 1, -1):\n",
    "            value = df[(df['Time'] == time) & (df['Day'] == day) & (df['Month'] == month) & (df['Year'] == j)]\n",
    "            if not value.empty and not pd.isna(value[column].iloc[0]):\n",
    "                df.at[i, column] = (value[column].iloc[0])\n",
    "                filled = True\n",
    "                break\n",
    "        \n",
    "        # Tìm giá trị trong tương lai\n",
    "        if not filled:\n",
    "            for j in range(year + 1, 2024 + 1):\n",
    "                value = df[(df['Time'] == time) & (df['Day'] == day) & (df['Month'] == month) & (df['Year'] == j)]\n",
    "                if not value.empty and not pd.isna(value[column].iloc[0]):\n",
    "                    df.at[i, column] = (value[column].iloc[0])\n",
    "                    filled = True\n",
    "                    break\n",
    "\n",
    "columns2Fill = ['Temp Definition °C', 'Dew Point Definition °C', 'Rel Hum Definition %', 'Precip. Amount Definition mm', 'Stn Press Definition kPa']\n",
    "\n",
    "for column in columns2Fill:\n",
    "    fill_missing(column, original_df)"
   ]
  },
  {
   "cell_type": "code",
   "execution_count": 15,
   "metadata": {},
   "outputs": [
    {
     "name": "stdout",
     "output_type": "stream",
     "text": [
      "<class 'pandas.core.frame.DataFrame'>\n",
      "RangeIndex: 82536 entries, 0 to 82535\n",
      "Data columns (total 6 columns):\n",
      " #   Column                        Non-Null Count  Dtype \n",
      "---  ------                        --------------  ----- \n",
      " 0   TIME UTC                      82536 non-null  object\n",
      " 1   Temp Definition °C            82536 non-null  object\n",
      " 2   Dew Point Definition °C       82536 non-null  object\n",
      " 3   Rel Hum Definition %          82536 non-null  object\n",
      " 4   Precip. Amount Definition mm  82536 non-null  object\n",
      " 5   Stn Press Definition kPa      82536 non-null  object\n",
      "dtypes: object(6)"
     ]
    }
   ],
   "source": [
    "original_df.drop(columns=['Year', 'Month', 'Day','Time']).info(verbose=True, memory_usage=False, )"
   ]
  },
  {
   "cell_type": "code",
   "execution_count": 6,
   "metadata": {},
   "outputs": [],
   "source": [
    "for column in columns2Fill:\n",
    "    original_df[column] = pd.to_numeric(original_df[column], errors='coerce')"
   ]
  },
  {
   "cell_type": "code",
   "execution_count": 7,
   "metadata": {},
   "outputs": [],
   "source": [
    "original_df.to_csv('handledMising.csv')"
   ]
  },
  {
   "cell_type": "code",
   "execution_count": 8,
   "metadata": {},
   "outputs": [
    {
     "name": "stdout",
     "output_type": "stream",
     "text": [
      "<class 'pandas.core.frame.DataFrame'>\n",
      "RangeIndex: 3439 entries, 0 to 3438\n",
      "Data columns (total 16 columns):\n",
      " #   Column            Non-Null Count  Dtype  \n",
      "---  ------            --------------  -----  \n",
      " 0   Year              3439 non-null   int32  \n",
      " 1   Month             3439 non-null   int32  \n",
      " 2   Day               3439 non-null   int32  \n",
      " 3   Temp_mean         3439 non-null   float64\n",
      " 4   Temp_max          3439 non-null   float64\n",
      " 5   Temp_min          3439 non-null   float64\n",
      " 6   DewPoint_mean     3439 non-null   float64\n",
      " 7   DewPoint_max      3439 non-null   float64\n",
      " 8   DewPoint_min      3439 non-null   float64\n",
      " 9   RelHum_mean       3439 non-null   float64\n",
      " 10  RelHum_max        3439 non-null   float64\n",
      " 11  RelHum_min        3439 non-null   float64\n",
      " 12  PrecipAmount_sum  3439 non-null   float64\n",
      " 13  StnPress_mean     3439 non-null   float64\n",
      " 14  StnPress_max      3439 non-null   float64\n",
      " 15  StnPress_min      3439 non-null   float64\n",
      "dtypes: float64(13), int32(3)\n",
      "memory usage: 389.7 KB\n"
     ]
    }
   ],
   "source": [
    "# Ensure the columns are numeric and handle errors by coercing them to NaN\n",
    "numeric_columns = ['Temp Definition °C', 'Dew Point Definition °C', 'Rel Hum Definition %', \\\n",
    "                    'Precip. Amount Definition mm', 'Stn Press Definition kPa']\n",
    "\n",
    "for column in numeric_columns:\n",
    "    original_df[column] = pd.to_numeric(original_df[column], errors='coerce')\n",
    "\n",
    "# Nhóm dữ liệu theo ngày, tháng, năm\n",
    "grouped_df = original_df.groupby(['Year', 'Month', 'Day'])\n",
    "\n",
    "# Tính giá trị trung bình, lớn nhất và nhỏ nhất cho các thuộc tính\n",
    "aggregated_df = grouped_df.agg({\n",
    "    'Temp Definition °C': ['mean', 'max', 'min'],\n",
    "    'Dew Point Definition °C': ['mean', 'max', 'min'],\n",
    "    'Rel Hum Definition %': ['mean', 'max', 'min'],\n",
    "    'Precip. Amount Definition mm': ['sum'],\n",
    "    'Stn Press Definition kPa': ['mean', 'max', 'min']\n",
    "}).reset_index()\n",
    "\n",
    "# Đổi tên các cột cho dễ đọc\n",
    "aggregated_df.columns = ['Year', 'Month', 'Day',\n",
    "                         'Temp_mean', 'Temp_max', 'Temp_min',\n",
    "                         'DewPoint_mean', 'DewPoint_max', 'DewPoint_min',\n",
    "                         'RelHum_mean', 'RelHum_max', 'RelHum_min',\n",
    "                         'PrecipAmount_sum',\n",
    "                         'StnPress_mean', 'StnPress_max', 'StnPress_min']\n",
    "\n",
    "new_numberic_columns = ['Temp_mean', 'Temp_max', 'Temp_min',\n",
    "                         'DewPoint_mean', 'DewPoint_max', 'DewPoint_min',\n",
    "                         'RelHum_mean', 'RelHum_max', 'RelHum_min',\n",
    "                         'PrecipAmount_sum',\n",
    "                         'StnPress_mean', 'StnPress_max', 'StnPress_min']\n",
    "\n",
    "for column in new_numberic_columns:\n",
    "    aggregated_df[column] = aggregated_df[column].round(3)\n",
    "    \n",
    "\n",
    "# Lưu DataFrame đã được tính toán vào file CSV\n",
    "aggregated_df.to_csv('preProcessedData.csv', index=False)\n",
    "\n",
    "aggregated_df.info()"
   ]
  },
  {
   "cell_type": "code",
   "execution_count": 10,
   "metadata": {},
   "outputs": [],
   "source": [
    "import pandas as pd\n",
    "\n",
    "# Đọc dữ liệu đã được tiền xử lý\n",
    "df = pd.read_csv('preProcessedData.csv')"
   ]
  },
  {
   "cell_type": "code",
   "execution_count": 11,
   "metadata": {},
   "outputs": [
    {
     "name": "stdout",
     "output_type": "stream",
     "text": [
      "<class 'pandas.core.frame.DataFrame'>\n",
      "RangeIndex: 3439 entries, 0 to 3438\n",
      "Data columns (total 13 columns):\n",
      " #   Column            Non-Null Count  Dtype  \n",
      "---  ------            --------------  -----  \n",
      " 0   Temp_mean         3439 non-null   float64\n",
      " 1   Temp_max          3439 non-null   float64\n",
      " 2   Temp_min          3439 non-null   float64\n",
      " 3   DewPoint_mean     3439 non-null   float64\n",
      " 4   DewPoint_max      3439 non-null   float64\n",
      " 5   DewPoint_min      3439 non-null   float64\n",
      " 6   RelHum_mean       3439 non-null   float64\n",
      " 7   RelHum_max        3439 non-null   float64\n",
      " 8   RelHum_min        3439 non-null   float64\n",
      " 9   PrecipAmount_sum  3439 non-null   float64\n",
      " 10  StnPress_mean     3439 non-null   float64\n",
      " 11  StnPress_max      3439 non-null   float64\n",
      " 12  StnPress_min      3439 non-null   float64\n",
      "dtypes: float64(13)\n",
      "memory usage: 349.4 KB\n"
     ]
    }
   ],
   "source": [
    "df.drop(columns=['Year', 'Month', 'Day']).info()"
   ]
  }
 ],
 "metadata": {
  "kernelspec": {
   "display_name": "base",
   "language": "python",
   "name": "python3"
  },
  "language_info": {
   "codemirror_mode": {
    "name": "ipython",
    "version": 3
   },
   "file_extension": ".py",
   "mimetype": "text/x-python",
   "name": "python",
   "nbconvert_exporter": "python",
   "pygments_lexer": "ipython3",
   "version": "3.12.3"
  }
 },
 "nbformat": 4,
 "nbformat_minor": 2
}
