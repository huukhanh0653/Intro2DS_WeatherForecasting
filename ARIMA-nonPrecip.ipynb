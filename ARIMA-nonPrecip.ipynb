{
 "cells": [
  {
   "cell_type": "code",
   "execution_count": 22,
   "metadata": {},
   "outputs": [],
   "source": [
    "import os\n",
    "import pandas as pd\n",
    "from statsmodels.tsa.stattools import adfuller\n",
    "from statsmodels.graphics.tsaplots import plot_acf, plot_pacf\n",
    "from statsmodels.tsa.arima.model import ARIMA\n",
    "from statsmodels.tsa.statespace.sarimax import SARIMAX\n",
    "import matplotlib.pyplot as plt"
   ]
  },
  {
   "cell_type": "code",
   "execution_count": null,
   "metadata": {},
   "outputs": [],
   "source": [
    "# Đọc tệp CSV đã tải lên\n",
    "file_path = 'preProcessedDataWithHmdx.csv'\n",
    "data = pd.read_csv(file_path)\n",
    "\n",
    "# Hiển thị thông tin tổng quan về dữ liệu\n",
    "data = data.drop(columns=['HMDX_label', 'PrecipAmount_sum'])\n",
    "\n",
    "data.info(), data.head()"
   ]
  },
  {
   "cell_type": "code",
   "execution_count": null,
   "metadata": {},
   "outputs": [],
   "source": [
    "# Tính ma trận tương quan\n",
    "correlation_matrix = data.corr()\n",
    "\n",
    "# Xác định các cặp thuộc tính có tương quan lớn hơn 0.75\n",
    "high_corr_pairs = correlation_matrix[correlation_matrix.abs() > 0.75].stack().reset_index()\n",
    "high_corr_pairs = high_corr_pairs[high_corr_pairs['level_0'] != high_corr_pairs['level_1']]\n",
    "\n",
    "# Lọc danh sách các cột cần loại bỏ\n",
    "columns_to_drop = set()\n",
    "for col1, col2, corr in high_corr_pairs.itertuples(index=False):\n",
    "    # Chỉ giữ lại một cột trong mỗi cặp\n",
    "    if col1 not in columns_to_drop:\n",
    "        columns_to_drop.add(col2)\n",
    "\n",
    "# Loại bỏ các cột có tương quan cao\n",
    "filtered_data = data.drop(columns=list(columns_to_drop), axis=1)\n",
    "filtered_data.info()"
   ]
  },
  {
   "cell_type": "code",
   "execution_count": 25,
   "metadata": {},
   "outputs": [],
   "source": [
    "# Kết hợp các cột Year, Month, Day thành một cột Date\n",
    "filtered_data['Date'] = pd.to_datetime(filtered_data[['Year', 'Month', 'Day']])\n",
    "\n",
    "# Đặt cột 'Date' làm chỉ số thời gian\n",
    "filtered_data.set_index('Date', inplace=True)\n",
    "\n",
    "# Xóa các cột không cần thiết\n",
    "filtered_data.drop(['Year', 'Month', 'Day'], axis=1, inplace=True)\n",
    "\n",
    "train_data = filtered_data.iloc[:-30]['Temp_mean']\n",
    "test_data = filtered_data.iloc[-30:]['Temp_mean']"
   ]
  },
  {
   "cell_type": "code",
   "execution_count": null,
   "metadata": {},
   "outputs": [],
   "source": [
    "result = adfuller(train_data)\n",
    "print('ADF Statistic:', result[0])\n",
    "print('p-value:', result[1])"
   ]
  },
  {
   "cell_type": "code",
   "execution_count": null,
   "metadata": {},
   "outputs": [],
   "source": [
    "plot_acf(train_data)\n",
    "plot_pacf(train_data)\n",
    "plt.show()"
   ]
  },
  {
   "cell_type": "code",
   "execution_count": null,
   "metadata": {},
   "outputs": [],
   "source": [
    "# Tạo thư mục lưu đồ thị nếu chưa tồn tại\n",
    "output_dir = \"../arima_forecasts\"\n",
    "os.makedirs(output_dir, exist_ok=True)\n",
    "\n",
    "# Vòng lặp thử nghiệm các giá trị p, d, q\n",
    "for p in range(8):\n",
    "    for d in range(8):\n",
    "        for q in range(8):\n",
    "            try:\n",
    "                # Xây dựng và huấn luyện mô hình ARIMA\n",
    "                model = ARIMA(train_data, order=(p, d, q))\n",
    "                model_fit = model.fit()\n",
    "\n",
    "                # Dự đoán\n",
    "                forecast = model_fit.forecast(steps=30)\n",
    "\n",
    "                # Vẽ đồ thị\n",
    "                plt.figure(figsize=(12, 6))\n",
    "                plt.plot(test_data.index, test_data, label='Actual Data (Last 30 Days)', color='blue')\n",
    "                plt.plot(test_data.index, forecast, label='Forecast', color='red', linestyle='--')\n",
    "                plt.xlabel('Date')\n",
    "                plt.ylabel('Temperature Mean')\n",
    "                plt.title(f'ARIMA Forecast (p={p}, d={d}, q={q})')\n",
    "                plt.legend()\n",
    "                plt.grid()\n",
    "\n",
    "                # Lưu đồ thị\n",
    "                file_name = f\"arima_p{p}_d{d}_q{q}.png\"\n",
    "                plt.savefig(os.path.join(output_dir, file_name))\n",
    "                plt.close()\n",
    "            except Exception as e:\n",
    "                print(f\"Failed for ARIMA(p={p}, d={d}, q={q}): {e}\")\n"
   ]
  },
  {
   "cell_type": "code",
   "execution_count": null,
   "metadata": {},
   "outputs": [],
   "source": [
    "p, d, q = 2, 4, 5\n",
    "model = ARIMA(train_data, order=(p, d, q))\n",
    "model_fit = model.fit()\n",
    "\n",
    "# Dự đoán\n",
    "forecast = model_fit.forecast(steps=30)\n",
    "\n",
    "# Vẽ đồ thị\n",
    "plt.figure(figsize=(12, 6))\n",
    "plt.plot(test_data.index, test_data, label='Actual Data (Last 30 Days)', color='blue')\n",
    "plt.plot(test_data.index, forecast, label='Forecast', color='red', linestyle='--')\n",
    "plt.xlabel('Date')\n",
    "plt.ylabel('Temperature Mean')\n",
    "plt.title(f'ARIMA Forecast (p={p}, d={d}, q={q})')\n",
    "plt.legend()\n",
    "plt.show()"
   ]
  }
 ],
 "metadata": {
  "kernelspec": {
   "display_name": "Python 3",
   "language": "python",
   "name": "python3"
  },
  "language_info": {
   "codemirror_mode": {
    "name": "ipython",
    "version": 3
   },
   "file_extension": ".py",
   "mimetype": "text/x-python",
   "name": "python",
   "nbconvert_exporter": "python",
   "pygments_lexer": "ipython3",
   "version": "3.9.13"
  }
 },
 "nbformat": 4,
 "nbformat_minor": 2
}
